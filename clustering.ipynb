{
 "cells": [
  {
   "cell_type": "markdown",
   "metadata": {},
   "source": [
    "# Clustering Segments\n",
    "---\n",
    "Use feature table of segments to derive an alphabet for Pempheris Adspersa vocalisations.\n",
    "Unsupervised clustering algorithm is fit to a chosen set of features and their corresponding cluster number is predicted. "
   ]
  },
  {
   "cell_type": "markdown",
   "metadata": {},
   "source": [
    "## Imports:"
   ]
  },
  {
   "cell_type": "code",
   "execution_count": 313,
   "metadata": {},
   "outputs": [],
   "source": [
    "import os\n",
    "import pandas as pd\n",
    "import numpy as np\n",
    "import matplotlib.pyplot as plt\n",
    "import matplotlib.cm as cm\n",
    "import librosa\n",
    "import datetime\n",
    "\n",
    "from sklearn import cluster\n",
    "from sklearn.metrics import silhouette_samples"
   ]
  },
  {
   "cell_type": "markdown",
   "metadata": {},
   "source": [
    "## Control Parameters:"
   ]
  },
  {
   "cell_type": "code",
   "execution_count": 303,
   "metadata": {},
   "outputs": [],
   "source": [
    "sr = 16000 # sample rate\n",
    "\n",
    "input_data_path = 'data/segmented/segment_features.csv'\n",
    "segmented_data_dir = 'data/segmented/tank/'\n",
    "results_data_dir = 'results/'\n",
    "\n",
    "n_clusters = 5 # number of clusters to fit\n",
    "\n",
    "# cluster sample image params\n",
    "sample_size = 30\n",
    "n_cols = 3\n",
    "n_rows = 10"
   ]
  },
  {
   "cell_type": "markdown",
   "metadata": {},
   "source": [
    "## Helper Functions:"
   ]
  },
  {
   "cell_type": "code",
   "execution_count": 191,
   "metadata": {},
   "outputs": [],
   "source": [
    "'''\n",
    "Description:\n",
    "    Plots a signal waveform. \n",
    "Parameters:\n",
    "    signal (numpy.ndarray): array of signal amplitudes\n",
    "    sr (int): sample rate of waveform\n",
    "Return:\n",
    "    None\n",
    "'''\n",
    "def plot_signal(signal, sr=sr):\n",
    "    no_samples = len(signal)\n",
    "    plt.plot(np.linspace(0, no_samples/sr, no_samples), signal)"
   ]
  },
  {
   "cell_type": "markdown",
   "metadata": {},
   "source": [
    "## Load Feature Dataset:"
   ]
  },
  {
   "cell_type": "code",
   "execution_count": 248,
   "metadata": {},
   "outputs": [],
   "source": [
    "df_main = pd.read_csv(input_data_path)\n",
    "df_features = df_main.drop(columns=[\"file_id\", \"file_len_s\"])"
   ]
  },
  {
   "cell_type": "markdown",
   "metadata": {},
   "source": [
    "## Chosing featues to fit:"
   ]
  },
  {
   "cell_type": "code",
   "execution_count": 285,
   "metadata": {},
   "outputs": [
    {
     "data": {
      "text/html": [
       "<div>\n",
       "<style scoped>\n",
       "    .dataframe tbody tr th:only-of-type {\n",
       "        vertical-align: middle;\n",
       "    }\n",
       "\n",
       "    .dataframe tbody tr th {\n",
       "        vertical-align: top;\n",
       "    }\n",
       "\n",
       "    .dataframe thead th {\n",
       "        text-align: right;\n",
       "    }\n",
       "</style>\n",
       "<table border=\"1\" class=\"dataframe\">\n",
       "  <thead>\n",
       "    <tr style=\"text-align: right;\">\n",
       "      <th></th>\n",
       "      <th>mfcc_0</th>\n",
       "      <th>mfcc_1</th>\n",
       "      <th>mfcc_2</th>\n",
       "      <th>mfcc_3</th>\n",
       "      <th>mfcc_4</th>\n",
       "      <th>mfcc_5</th>\n",
       "      <th>mfcc_6</th>\n",
       "      <th>mfcc_7</th>\n",
       "      <th>mfcc_8</th>\n",
       "      <th>mfcc_9</th>\n",
       "      <th>lpcc_0</th>\n",
       "      <th>lpcc_1</th>\n",
       "      <th>lpcc_2</th>\n",
       "      <th>lpcc_3</th>\n",
       "      <th>lpcc_4</th>\n",
       "      <th>lpcc_5</th>\n",
       "      <th>lpcc_6</th>\n",
       "      <th>lpcc_7</th>\n",
       "      <th>lpcc_8</th>\n",
       "      <th>lpcc_9</th>\n",
       "    </tr>\n",
       "  </thead>\n",
       "  <tbody>\n",
       "    <tr>\n",
       "      <th>0</th>\n",
       "      <td>-16.283259</td>\n",
       "      <td>17.546125</td>\n",
       "      <td>10.315575</td>\n",
       "      <td>-0.175181</td>\n",
       "      <td>-6.578718</td>\n",
       "      <td>-6.318516</td>\n",
       "      <td>-3.300116</td>\n",
       "      <td>-0.943687</td>\n",
       "      <td>1.604125</td>\n",
       "      <td>1.668166</td>\n",
       "      <td>-0.547104</td>\n",
       "      <td>-0.213493</td>\n",
       "      <td>0.08077</td>\n",
       "      <td>0.091835</td>\n",
       "      <td>0.058671</td>\n",
       "      <td>0.034455</td>\n",
       "      <td>-0.008611</td>\n",
       "      <td>-0.024951</td>\n",
       "      <td>-0.067845</td>\n",
       "      <td>0.048056</td>\n",
       "    </tr>\n",
       "    <tr>\n",
       "      <th>1</th>\n",
       "      <td>30.036041</td>\n",
       "      <td>-3.169516</td>\n",
       "      <td>11.620743</td>\n",
       "      <td>8.690845</td>\n",
       "      <td>4.258244</td>\n",
       "      <td>-0.466739</td>\n",
       "      <td>-4.841083</td>\n",
       "      <td>-6.389014</td>\n",
       "      <td>-7.642615</td>\n",
       "      <td>-4.134230</td>\n",
       "      <td>1.181273</td>\n",
       "      <td>-0.007640</td>\n",
       "      <td>-0.14504</td>\n",
       "      <td>0.017353</td>\n",
       "      <td>0.027965</td>\n",
       "      <td>0.072432</td>\n",
       "      <td>0.044001</td>\n",
       "      <td>0.050283</td>\n",
       "      <td>0.011413</td>\n",
       "      <td>-0.054640</td>\n",
       "    </tr>\n",
       "  </tbody>\n",
       "</table>\n",
       "</div>"
      ],
      "text/plain": [
       "      mfcc_0     mfcc_1     mfcc_2    mfcc_3    mfcc_4    mfcc_5    mfcc_6  \\\n",
       "0 -16.283259  17.546125  10.315575 -0.175181 -6.578718 -6.318516 -3.300116   \n",
       "1  30.036041  -3.169516  11.620743  8.690845  4.258244 -0.466739 -4.841083   \n",
       "\n",
       "     mfcc_7    mfcc_8    mfcc_9    lpcc_0    lpcc_1   lpcc_2    lpcc_3  \\\n",
       "0 -0.943687  1.604125  1.668166 -0.547104 -0.213493  0.08077  0.091835   \n",
       "1 -6.389014 -7.642615 -4.134230  1.181273 -0.007640 -0.14504  0.017353   \n",
       "\n",
       "     lpcc_4    lpcc_5    lpcc_6    lpcc_7    lpcc_8    lpcc_9  \n",
       "0  0.058671  0.034455 -0.008611 -0.024951 -0.067845  0.048056  \n",
       "1  0.027965  0.072432  0.044001  0.050283  0.011413 -0.054640  "
      ]
     },
     "execution_count": 285,
     "metadata": {},
     "output_type": "execute_result"
    }
   ],
   "source": [
    "df_input = df_main[\n",
    "    df_main.columns[df_main.columns.str.contains(\"mfcc|lpcc\")]\n",
    "]\n",
    "\n",
    "df_input = df_input - df_input.mean() #removing DC components from mfcc and lpcc coefficients\n",
    "\n",
    "df_input.head(2)"
   ]
  },
  {
   "cell_type": "markdown",
   "metadata": {},
   "source": [
    "## Fitting Dataset and Predicting Clusters:"
   ]
  },
  {
   "cell_type": "code",
   "execution_count": 405,
   "metadata": {},
   "outputs": [],
   "source": [
    "kmc = cluster.AgglomerativeClustering(n_clusters=n_clusters)\n",
    "# kmc = cluster.KMeans(n_clusters=n_clusters, init='k-means++')\n",
    "clusters = kmc.fit_predict(df_input)"
   ]
  },
  {
   "cell_type": "markdown",
   "metadata": {},
   "source": [
    "## Cluster Analysis:"
   ]
  },
  {
   "cell_type": "code",
   "execution_count": 406,
   "metadata": {},
   "outputs": [
    {
     "data": {
      "text/plain": [
       "0    19952\n",
       "2     8786\n",
       "1     5628\n",
       "3     5107\n",
       "4     4731\n",
       "Name: cluster, dtype: int64"
      ]
     },
     "execution_count": 406,
     "metadata": {},
     "output_type": "execute_result"
    }
   ],
   "source": [
    "df_main[\"cluster\"] = clusters\n",
    "df_main[\"cluster\"].value_counts()"
   ]
  },
  {
   "cell_type": "code",
   "execution_count": 423,
   "metadata": {},
   "outputs": [
    {
     "name": "stdout",
     "output_type": "stream",
     "text": [
      "Cluster 0 Silhouette Score: 0.29928682445745386\n",
      "Cluster 1 Silhouette Score: 0.2903306096232635\n",
      "Cluster 2 Silhouette Score: 0.19111824670870642\n",
      "Cluster 3 Silhouette Score: 0.5371726797090879\n",
      "Cluster 4 Silhouette Score: 0.4816056676372954\n",
      "Average Silhouette Score: 0.32364341681711833\n"
     ]
    }
   ],
   "source": [
    "sample_silhouette_values = silhouette_samples(df_input, clusters)\n",
    "df_main[\"silhouette_score\"] = sample_silhouette_values\n",
    "\n",
    "for n in range(n_clusters):\n",
    "    print(f\"Cluster {n} Silhouette Score:\", df_main[\"silhouette_score\"].loc[df_main[\"cluster\"] == n].mean())\n",
    "print(\"Average Silhouette Score:\", df_main[\"silhouette_score\"].mean())"
   ]
  },
  {
   "cell_type": "markdown",
   "metadata": {},
   "source": [
    "## Saving primary clustered dataset and sample images from each cluster:"
   ]
  },
  {
   "cell_type": "code",
   "execution_count": null,
   "metadata": {},
   "outputs": [],
   "source": [
    "os.makedirs(results_data_dir, exist_ok=True)\n",
    "\n",
    "for cluster_n in range(n_clusters):\n",
    "    cluster_samples = [] \n",
    "    # getting a batch of samples from each cluster to inspect cluster quality\n",
    "    for f in df_main.loc[df_main.cluster == cluster_n].sample(sample_size)[\"file_id\"]:\n",
    "        sample, _ = librosa.load(os.path.join(segmented_data_dir, f), sr=sr)\n",
    "        cluster_samples.append(sample)\n",
    "\n",
    "    plt.figure(figsize=(5*n_cols, 2*n_rows))\n",
    "    for i in range(len(cluster_samples)):\n",
    "        plt.subplot(n_rows, n_cols, i+1)\n",
    "        plot_signal(cluster_samples[i])\n",
    "\n",
    "    plt.savefig(os.path.join(results_data_dir, f\"cluster_{cluster_n}.png\"), \n",
    "            facecolor='white', bbox_inches='tight')"
   ]
  },
  {
   "cell_type": "code",
   "execution_count": 424,
   "metadata": {},
   "outputs": [],
   "source": [
    "df_main.to_csv(os.path.join(results_data_dir, 'model_out.csv'), index=False) # saving final dataset with predicted clusters."
   ]
  }
 ],
 "metadata": {
  "kernelspec": {
   "display_name": "Python 3.9.4 64-bit",
   "language": "python",
   "name": "python3"
  },
  "language_info": {
   "codemirror_mode": {
    "name": "ipython",
    "version": 3
   },
   "file_extension": ".py",
   "mimetype": "text/x-python",
   "name": "python",
   "nbconvert_exporter": "python",
   "pygments_lexer": "ipython3",
   "version": "3.9.4"
  },
  "orig_nbformat": 4,
  "vscode": {
   "interpreter": {
    "hash": "30c044526e5b867a9e6fcb8cc6575f33acc42df1bdb3b43eea9f4e61a35fc699"
   }
  }
 },
 "nbformat": 4,
 "nbformat_minor": 2
}
