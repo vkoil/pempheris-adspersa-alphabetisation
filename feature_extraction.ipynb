{
 "cells": [
  {
   "cell_type": "markdown",
   "metadata": {},
   "source": [
    "# Feature Extraction\n",
    "---\n",
    "Convert all segments into a feature table."
   ]
  },
  {
   "cell_type": "markdown",
   "metadata": {},
   "source": [
    "## Imports:"
   ]
  },
  {
   "cell_type": "code",
   "execution_count": 2,
   "metadata": {},
   "outputs": [],
   "source": [
    "import os\n",
    "import librosa\n",
    "import numpy as np\n",
    "import pandas as pd\n",
    "\n",
    "from librosa import feature"
   ]
  },
  {
   "cell_type": "markdown",
   "metadata": {},
   "source": [
    "## Control Parameters:"
   ]
  },
  {
   "cell_type": "code",
   "execution_count": 29,
   "metadata": {},
   "outputs": [],
   "source": [
    "sr = 16000 # sample rate\n",
    "\n",
    "input_data_dir = 'data/segmented/tank/'\n",
    "output_data_dir = 'data/segmented/'\n",
    "\n",
    "ffl = 128 # window size used to compute features\n",
    "fhl = 64 # hop length used to compute features"
   ]
  },
  {
   "cell_type": "markdown",
   "metadata": {},
   "source": [
    "## Preparing Feature Table for Clustering:"
   ]
  },
  {
   "cell_type": "code",
   "execution_count": 28,
   "metadata": {},
   "outputs": [
    {
     "data": {
      "text/plain": [
       "array([[1604.42486849,  146.3023085 ,  154.1208624 ,  592.9371969 ]])"
      ]
     },
     "execution_count": 28,
     "metadata": {},
     "output_type": "execute_result"
    }
   ],
   "source": [
    "f1, _ = librosa.load(\"data/segmented/tank/67129367.140626174607_1_5.wav\", sr=sr)\n",
    "\n",
    "f1 = feature.spectral_centroid(y=f1, n_fft=256, sr=sr)\n",
    "f1"
   ]
  },
  {
   "cell_type": "code",
   "execution_count": 16,
   "metadata": {},
   "outputs": [
    {
     "name": "stderr",
     "output_type": "stream",
     "text": [
      "c:\\Users\\vkoil\\AppData\\Local\\Programs\\Python\\Python39\\lib\\site-packages\\librosa\\util\\decorators.py:88: UserWarning: Empty filters detected in mel frequency basis. Some channels will produce empty responses. Try increasing your sampling rate (and fmax) or reducing n_mels.\n",
      "  return f(*args, **kwargs)\n"
     ]
    }
   ],
   "source": [
    "pd.DataFrame(columns=[\"file_id\", \"file_len_s\",\n",
    "\"zcr_mean\", \"zcr_std\", \"zcr_max\", \"zcr_mean\",\n",
    "\"spc_centroid_mean\", \"spc_centroid_std\", \"spc_centroid_max\", \"spc_centroid_min\",\n",
    "\"spc_bandwidth_mean\", \"spc_bandwidth_std\", \"spc_bandwidth_max\", \"spc_bandwidth_min\",\n",
    "\"spc_contrast_mean\", \"spc_contrast_std\", \"spc_contrast_max\", \"spc_contrast_min\",\n",
    "\"spc_flatness_mean\", \"spc_flatness_std\", \"spc_flatness_max\", \"spc_flatness_min\",\n",
    "\"spc_rolloff_mean\", \"spc_rolloff_std\", \"spc_rolloff_max\", \"spc_rolloff_min\",\n",
    "\"rms_mean\", \"rms_std\", \"rms_max\", \"rms_min\",\n",
    "\"mfcc_0\",\"mfcc_1\",\"mfcc_2\",\"mfcc_3\",\"mfcc_4\",\"mfcc_5\",\"mfcc_6\",\"mfcc_7\",\"mfcc_8\",\"mfcc_9\",\n",
    "\"lfcc_0\",\"lfcc_1\",\"lfcc_2\",\"lfcc_3\",\"lfcc_4\",\"lfcc_5\",\"lfcc_6\",\"lfcc_7\",\"lfcc_8\",\"lfcc_9\"\n",
    "]).to_csv(os.path.join(output_data_dir, \"segment_features.csv\"), index=False, header=True)\n",
    "\n",
    "for f in os.listdir(input_data_dir):\n",
    "    segment, _ = librosa.load(os.path.join(input_data_dir, f), sr=sr)\n",
    "    \n",
    "    zcr = feature.zero_crossing_rate(segment, frame_length=ffl, hop_length=fhl)\n",
    "    spc_centroid = feature.spectral_centroid(y=segment, n_fft=ffl, center=False, sr=sr)\n",
    "    spc_bandwidth = feature.spectral_bandwidth(y=segment, n_fft=ffl, hop_length=fhl, center=False, sr=sr)\n",
    "    spc_contrast = feature.spectral_contrast(y=segment, n_fft=ffl, hop_length=fhl, center=False, sr=sr)\n",
    "    spc_flatness = feature.spectral_flatness(y=segment, n_fft=ffl, hop_length=fhl, center=False)\n",
    "    spc_rolloff = feature.spectral_rolloff(y=segment, n_fft=ffl, hop_length=fhl, center=False, sr=sr)\n",
    "    rms = feature.rms(y=segment, frame_length=ffl, hop_length=fhl)\n",
    "    mfcc = feature.mfcc(y=segment, sr=sr, n_mfcc=10, n_fft=ffl)\n",
    "    lpcc = librosa.lpc(\n",
    "        y=segment, order=10)[1:]\n",
    "\n",
    "    pd.DataFrame([\n",
    "    f,\n",
    "    len(segment)/sr,\n",
    "\n",
    "    np.mean(zcr),\n",
    "    np.std(zcr),\n",
    "    np.max(zcr),\n",
    "    np.min(zcr),\n",
    "\n",
    "    np.mean(spc_centroid),\n",
    "    np.std(spc_centroid),\n",
    "    np.max(spc_centroid),\n",
    "    np.min(spc_centroid),\n",
    "\n",
    "    np.mean(spc_bandwidth),\n",
    "    np.std(spc_bandwidth),\n",
    "    np.max(spc_bandwidth),\n",
    "    np.min(spc_bandwidth),\n",
    "\n",
    "    np.mean(spc_contrast),\n",
    "    np.std(spc_contrast),\n",
    "    np.max(spc_contrast),\n",
    "    np.min(spc_contrast),\n",
    "\n",
    "    np.mean(spc_flatness),\n",
    "    np.std(spc_flatness),\n",
    "    np.max(spc_flatness),\n",
    "    np.min(spc_flatness),\n",
    "\n",
    "    np.mean(spc_rolloff),\n",
    "    np.std(spc_rolloff),\n",
    "    np.max(spc_rolloff),\n",
    "    np.min(spc_rolloff),\n",
    "\n",
    "    np.mean(rms),\n",
    "    np.std(rms),\n",
    "    np.max(rms),\n",
    "    np.min(rms),\n",
    "\n",
    "    np.mean(mfcc[0]),\n",
    "    np.mean(mfcc[1]),\n",
    "    np.mean(mfcc[2]),\n",
    "    np.mean(mfcc[3]),\n",
    "    np.mean(mfcc[4]),\n",
    "    np.mean(mfcc[5]),\n",
    "    np.mean(mfcc[6]),\n",
    "    np.mean(mfcc[7]),\n",
    "    np.mean(mfcc[8]),\n",
    "    np.mean(mfcc[9]),\n",
    "    \n",
    "    np.mean(lpcc[0]),\n",
    "    np.mean(lpcc[1]),\n",
    "    np.mean(lpcc[2]),\n",
    "    np.mean(lpcc[3]),\n",
    "    np.mean(lpcc[4]),\n",
    "    np.mean(lpcc[5]),\n",
    "    np.mean(lpcc[6]),\n",
    "    np.mean(lpcc[7]),\n",
    "    np.mean(lpcc[8]),\n",
    "    np.mean(lpcc[9])\n",
    "    ]).T.to_csv(os.path.join(output_data_dir, \"segment_features.csv\"), index=False, header=False, mode='a')"
   ]
  }
 ],
 "metadata": {
  "kernelspec": {
   "display_name": "Python 3.9.4 64-bit",
   "language": "python",
   "name": "python3"
  },
  "language_info": {
   "codemirror_mode": {
    "name": "ipython",
    "version": 3
   },
   "file_extension": ".py",
   "mimetype": "text/x-python",
   "name": "python",
   "nbconvert_exporter": "python",
   "pygments_lexer": "ipython3",
   "version": "3.9.4"
  },
  "orig_nbformat": 4,
  "vscode": {
   "interpreter": {
    "hash": "30c044526e5b867a9e6fcb8cc6575f33acc42df1bdb3b43eea9f4e61a35fc699"
   }
  }
 },
 "nbformat": 4,
 "nbformat_minor": 2
}
