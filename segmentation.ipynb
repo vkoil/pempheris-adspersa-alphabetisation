{
 "cells": [
  {
   "cell_type": "code",
   "execution_count": 1,
   "metadata": {},
   "outputs": [],
   "source": [
    "import pandas as pd\n",
    "import numpy as np\n",
    "\n",
    "import librosa\n",
    "import librosa.display\n",
    "import librosa.segment\n",
    "\n",
    "import matplotlib.pyplot as plt"
   ]
  },
  {
   "cell_type": "code",
   "execution_count": 2,
   "metadata": {},
   "outputs": [],
   "source": [
    "'''\n",
    "Description:\n",
    "    Plots the boundaries along with signal waveform. \n",
    "Parameters:\n",
    "    waveform (numppy.ndarray): array of signal amplitudes\n",
    "    boundaries (numppy.ndarray): array of waveform indices where boundaries exist\n",
    "    sr (int): sample rate of waveform\n",
    "Return:\n",
    "    None\n",
    "\n",
    "'''\n",
    "def plot_boundaries_on_waveform(waveform, boundaries, sr):\n",
    "    hi, lo = max(waveform), min(waveform) \n",
    "    no_samples = len(waveform)\n",
    "    plt.vlines(boundaries/sr, lo, hi, colors='Red', linestyles='dotted')\n",
    "    plt.plot(np.linspace(0, no_samples/sr, no_samples), waveform)"
   ]
  },
  {
   "cell_type": "code",
   "execution_count": 3,
   "metadata": {},
   "outputs": [],
   "source": [
    "'''\n",
    "Description:\n",
    "    Splices a signal to [t1, t2), and optionally adjusts the boundary indices to the spliced signal.\n",
    "Parameters:\n",
    "    signal (numpy.ndarray): signal to splice\n",
    "    t1 (int/float): lower bound in seconds\n",
    "    t2 (int/float): upper bound in seconds\n",
    "    boundaries (numpy.array): list of boundaries\n",
    "Return:\n",
    "    s_signal (numpy.array): spliced signal\n",
    "    s_boundaries (numpy.array): boundaries adjusted to spliced signal \n",
    "'''\n",
    "def signal_splice(signal, t1, t2, sr, boundaries=[]):\n",
    "    t1 = int(t1*sr)\n",
    "    t2 = int(t2*sr)\n",
    "    signal = signal[t1:t2]\n",
    "    boundaries = boundaries[(boundaries >= t1) & (boundaries <= t2)]\n",
    "    return signal, boundaries"
   ]
  },
  {
   "cell_type": "code",
   "execution_count": 4,
   "metadata": {},
   "outputs": [],
   "source": [
    "'''\n",
    "Description:\n",
    "    Computes the windowed version of the non-linear energy operator (w-NLEO), \n",
    "    then returns an array containing boundary positions.\n",
    "Parameters:\n",
    "    data (numppy.ndarray): signal array\n",
    "    window_size (int): size of windows to perform NLEO operation.\n",
    "    threshold (float): minimum threshold for considering boundaries.\n",
    "Return:\n",
    "    array of segment positions\n",
    "\n",
    "'''\n",
    "def nonlinear_energy_operator(data, window_size, threshold):\n",
    "    assert window_size > 1\n",
    "    N = window_size//2\n",
    "    w_nleo = [] # psi_n\n",
    "    \n",
    "    for n in range(3+N, len(data)-N):\n",
    "        w_nleo.append(sum(data[n-1-N : n-1+N])*sum(data[n-2-N : n-2+N]) - sum(data[n-N : n+N])*sum(data[n-3-N : n-3+N]))\n",
    "    w_nleo = [w_nleo[0]]*(3+N) + w_nleo + [w_nleo[len(w_nleo)-1]]*(N) # padding nleo values with first and last values\n",
    "    assert len(w_nleo) == len(data) \n",
    "\n",
    "    boundaries = [] #index of found boundaries in data array \n",
    "    for n in range(N-1, len(data)-N-1):\n",
    "        gnleo = sum(w_nleo[n-N+1 : n]) - sum(w_nleo[n+1 : n+N]) #max is n+N, min\n",
    "        if (gnleo > threshold):\n",
    "            boundaries.append(n)\n",
    "    boundaries = np.array(boundaries, dtype='int')\n",
    "    return boundaries, w_nleo #only return w_nleo for analysis plz"
   ]
  },
  {
   "cell_type": "code",
   "execution_count": 5,
   "metadata": {},
   "outputs": [],
   "source": [
    "# loads an audio file as an numpp array containing signal amplitudes\n",
    "sample, sr = librosa.load(\"data/samples/processed/67375127.140411201837_002510_002518.wav\",sr=48000)"
   ]
  },
  {
   "cell_type": "code",
   "execution_count": 6,
   "metadata": {},
   "outputs": [
    {
     "data": {
      "text/plain": [
       "<librosa.display.AdaptiveWaveplot at 0x24fdaaa65e0>"
      ]
     },
     "execution_count": 6,
     "metadata": {},
     "output_type": "execute_result"
    },
    {
     "data": {
      "image/png": "[encoded data removed]",
      "text/plain": [
       "<Figure size 432x288 with 1 Axes>"
      ]
     },
     "metadata": {
      "needs_background": "light"
     },
     "output_type": "display_data"
    }
   ],
   "source": [
    "librosa.display.waveshow(sample, sr=sr)"
   ]
  },
  {
   "cell_type": "code",
   "execution_count": 11,
   "metadata": {},
   "outputs": [
    {
     "name": "stdout",
     "output_type": "stream",
     "text": [
      "Number of boundaries:  517\n",
      "Boundary locations:  [    82     83     84     85     86     87     88     89     90     91\n",
      "     92     93     94     95     96     97     98     99    100    101\n",
      "  10111  10112  10113  10114  10115  10116  10117  10118  10119  10120\n",
      "  10121  10122  10123  10124  10125  10126  10127  10128  10129  10130\n",
      "  10131  10132  10133  10134  10135  10136  10137  10138  10139  10140\n",
      "  10141  10142  10143  10144  10187  10188  10189  10190  10191  10192\n",
      "  10193  10194  10195  10196  10197  10198  10199  28344  28345  28346\n",
      "  28347  28348  28349  28350  28351  28352  28353  28354  28355  28356\n",
      "  28357  28358  28359  28360  28361  28362  28363  28364  28365  28366\n",
      "  28367  28368  28369  28370  28371  28372  28373  28374  28375  28376\n",
      "  28377  28378  28423  28424  28425  28426  28427  28428  28429  28430\n",
      "  28431  28432  28433  28434  28975  28976  28977  28978  28979  28980\n",
      "  28981  28982  28983  28984  28985  28986  28987  28988  28989  28990\n",
      "  28991  28992  28993  28994  28995  28996  28997  28998  43158  43159\n",
      "  43160  43161  43162  43163  43164  43165  43166  43167  43168  43169\n",
      "  43170  43171  43172  43173  43174  43175  43176  43177  43178  43179\n",
      "  43180  43181  43182  43183  43184  43185  43186  43187  43188  43189\n",
      "  43238  43239  43240  43241  43813  43814  43815  43816  43817  43818\n",
      "  43819  43820  43821  43822  43823  43824  43825  43826  43827  43828\n",
      "  43829  43830  43831  43832  48975  48976  48977  48978  48979  48980\n",
      "  48981  48982  48983  48984  48985  48986  48987  48988  48989  48990\n",
      "  48991  48992  48993  48994  48995  48996  48997  48998  48999  49000\n",
      "  49001  49002  49003  49631  49632  49633  49634  49635  49636  49637\n",
      "  49638  49639  49640  49641  49642  49643  49644  58114  58115  58116\n",
      "  58117  58118  58119  58120  58121  58122  58123  58124  58125  58126\n",
      "  58127  58128  58129  58130  58131  58132  58133  58134  58135  58136\n",
      "  58137  58138  64418  64419  64420  64421  64422  64423  64424  64425\n",
      "  64426  64427  64428  64429  64430  64431  64432  64433  64434  64435\n",
      "  64436  64437  64438  64439  70694  70695  70696  70697  70698  70699\n",
      "  70700  70701  70702  70703  70704  70705  70706  70707  70708  70709\n",
      "  70710  70711  85566  85567  85568  85569  85570  85571  85572  85573\n",
      " 231434 231435 231436 231437 231438 231439 231440 231441 231442 231443\n",
      " 231444 231445 231446 231447 231448 231449 231450 231451 231452 231453\n",
      " 231454 231455 231456 231457 231458 231459 233220 233221 233222 233223\n",
      " 233224 233225 233226 233227 233228 233229 233230 250615 250616 250617\n",
      " 250618 250619 250620 250621 250622 250623 250624 250625 250626 250627\n",
      " 250628 250629 250630 250631 250632 250633 250634 250635 250636 250637\n",
      " 250638 250639 250640 250641 250642 250643 252456 252457 252458 252459\n",
      " 252460 252461 252462 252463 252464 252465 252466 252467 252468 252469\n",
      " 252470 252471 252472 252473 252474 252475 252476 252477 252478 252479\n",
      " 252480 270204 270205 270206 270207 270208 270209 270210 270211 270212\n",
      " 270213 270214 270215 270216 270217 270218 270219 270220 270221 270222\n",
      " 270223 270224 270225 270226 270227 270228 270229 270230 270231 270232\n",
      " 270233 270234 270235 270236 271975 271976 271977 271978 271979 271980\n",
      " 271981 271982 271983 271984 271985 271986 271987 271988 271989 271990\n",
      " 271991 271992 271993 271994 271995 271996 271997 271998 271999 272000\n",
      " 272001 272002 310532 310533 310534 310535 310536 310537 310538 310539\n",
      " 310540 310541 310542 310543 310544 310545 310546 310547 310548 310549\n",
      " 310550 310551 310552 310553 310554 310555 310556 359673 359674 359675\n",
      " 359676 359677 359678 359679 359680 359681 359682 359683 359684 359685\n",
      " 359686 359687 359688 359689 359690 359691 359692 359693 359694 359695\n",
      " 359696 359697 359698 359699 359700 359701 359702]\n"
     ]
    }
   ],
   "source": [
    "boundaries_nleo, w_nleo = nonlinear_energy_operator(sample, 10, 0.1)\n",
    "print(\"Number of boundaries: \", len(boundaries_nleo))\n",
    "print(\"Boundary locations: \", boundaries_nleo)"
   ]
  },
  {
   "cell_type": "markdown",
   "metadata": {},
   "source": [
    "> TODO: fix boundary alignment when splicing with t1 not equal to 0\n",
    "* a signal array does not preserve a notion of absolute time\n",
    "* when a signal is spliced the time range becomes 0 to length of spliced signal.\n",
    "* the logic for filtering boundaries preserves the notion of time relative to the non-spliced signal.\n",
    "* this boundary value needs to be adjusted so that the boundary represents the index of the spliced signal. "
   ]
  },
  {
   "cell_type": "code",
   "execution_count": 12,
   "metadata": {},
   "outputs": [
    {
     "data": {
      "image/png": "[encoded data removed]",
      "text/plain": [
       "<Figure size 432x288 with 1 Axes>"
      ]
     },
     "metadata": {
      "needs_background": "light"
     },
     "output_type": "display_data"
    }
   ],
   "source": [
    "subsig, subbounds = signal_splice(sample, 0, 8, sr, boundaries_nleo)\n",
    "plot_boundaries_on_waveform(subsig, subbounds, sr)"
   ]
  }
 ],
 "metadata": {
  "interpreter": {
   "hash": "30c044526e5b867a9e6fcb8cc6575f33acc42df1bdb3b43eea9f4e61a35fc699"
  },
  "kernelspec": {
   "display_name": "Python 3.9.4 64-bit",
   "language": "python",
   "name": "python3"
  },
  "language_info": {
   "codemirror_mode": {
    "name": "ipython",
    "version": 3
   },
   "file_extension": ".py",
   "mimetype": "text/x-python",
   "name": "python",
   "nbconvert_exporter": "python",
   "pygments_lexer": "ipython3",
   "version": "3.9.4"
  }
 },
 "nbformat": 4,
 "nbformat_minor": 4
}
